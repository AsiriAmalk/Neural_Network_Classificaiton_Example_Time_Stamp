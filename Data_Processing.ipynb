{
 "cells": [
  {
   "cell_type": "code",
   "execution_count": 28,
   "metadata": {},
   "outputs": [],
   "source": [
    "import pandas as pd\n",
    "import matplotlib.pyplot as plt\n",
    "from datetime import datetime\n",
    "import numpy as np\n",
    "import datetime as dt\n",
    "import seaborn as sn\n",
    "import pandas as pd\n",
    "import matplotlib.pyplot as plt\n",
    "from confusion_matrix_pretty_print import plot_confusion_matrix_from_data\n",
    "\n",
    "import os\n",
    "os.listdir('formatedData/1/')\n",
    "\n",
    "from sklearn.preprocessing import LabelEncoder\n",
    "encoder = LabelEncoder()"
   ]
  },
  {
   "cell_type": "code",
   "execution_count": 29,
   "metadata": {},
   "outputs": [],
   "source": [
    "data = pd.read_csv(\"data.csv\", sep=';')\n",
    "labels = pd.read_csv(\"labels.csv\",sep=',')\n",
    "\n",
    "data1 = pd.read_csv(\"formatedData/1/data.csv\",sep=';')\n",
    "labels1 = pd.read_csv(\"formatedData/1/labels.txt\",  skiprows=5,sep=';')\n",
    "\n",
    "data2 = pd.read_csv(\"formatedData/2/data.csv\",sep=';')\n",
    "labels2 = pd.read_csv(\"formatedData/2/labels.txt\",  skiprows=5,sep=';')"
   ]
  },
  {
   "cell_type": "code",
   "execution_count": 30,
   "metadata": {},
   "outputs": [],
   "source": [
    "# data2"
   ]
  },
  {
   "cell_type": "code",
   "execution_count": 31,
   "metadata": {},
   "outputs": [],
   "source": [
    "# labels1.columns[0]"
   ]
  },
  {
   "cell_type": "code",
   "execution_count": 32,
   "metadata": {},
   "outputs": [],
   "source": [
    "## Data Date Format\n",
    "\n",
    "def data_format(data):\n",
    "    # pd.to_datetime(data['TimeStamp'], format='%d%b%Y:%H:%M:%S.%f')\n",
    "    data['TimeStamp'] = data['TimeStamp'].str.slice(stop=-10)\n",
    "    data['TimeStamp'] = pd.to_datetime(data['TimeStamp'])\n",
    "    data['Date'] = [d.date() for d in data['TimeStamp']]\n",
    "    data['Time'] = [d.time() for d in data['TimeStamp']]\n",
    "    mid = data['Date']\n",
    "    data.drop(\"Date\", axis=1,inplace = True)\n",
    "    data.insert(0, 'Date', mid)\n",
    "\n",
    "    mid = data['Time']\n",
    "    data.drop(\"Time\", axis=1,inplace = True)\n",
    "    data.insert(1, 'Time', mid)\n",
    "\n",
    "    data.drop(\"TimeStamp\", axis=1, inplace=True)"
   ]
  },
  {
   "cell_type": "code",
   "execution_count": 33,
   "metadata": {},
   "outputs": [],
   "source": [
    "## Label Date Format\n",
    "def label_Format(labels):\n",
    "    \n",
    "    ae = labels.columns[0]\n",
    "    labels = labels.reset_index()\n",
    "    labels[\"TimeStamp\"] = labels[\"index\"]\n",
    "    labels = labels.drop(\"index\", axis=1)\n",
    "    mid = labels['TimeStamp']\n",
    "    labels.drop(labels=['TimeStamp'], axis=1,inplace = True)\n",
    "    labels.insert(0, 'TimeStamp', mid)\n",
    "    labels[\"Label\"] = labels[ae]\n",
    "#     labels[\"Label\"] = labels[ae].str.slice(start=-1)\n",
    "    labels = labels.drop(ae, axis=1)\n",
    "    # labels['TimeStamp'] = [d.time() for d in labels['TimeStamp']]\n",
    "    ad = pd.to_datetime(labels['TimeStamp'])\n",
    "    labels['TimeStamp'] = ad.dt.strftime('%H:%M:%S')\n",
    "    return labels"
   ]
  },
  {
   "cell_type": "code",
   "execution_count": 34,
   "metadata": {},
   "outputs": [],
   "source": [
    "## GET 30 Periods\n",
    "\n",
    "def get_30s(data):\n",
    "    j=0\n",
    "    k=0\n",
    "\n",
    "    begins = []\n",
    "\n",
    "    for i in range(len(data)):\n",
    "        a = data[\"Time\"].iloc[i]\n",
    "\n",
    "        if (a.second==0 or a.second==30):\n",
    "    #         print(i-k, i)\n",
    "            begins.append(i)\n",
    "            j+=1\n",
    "            k = i\n",
    "#     print(j)\n",
    "#     print(begins)\n",
    "    return begins"
   ]
  },
  {
   "cell_type": "code",
   "execution_count": 35,
   "metadata": {},
   "outputs": [],
   "source": [
    "####### Get Preprocesd Data Frame\n",
    "def processDF(begins, data, labels):\n",
    "    ####### Select Droping Features Here ####\n",
    "    data1 = data.drop(\"Time\", axis=1)\n",
    "    data1 = data1.drop(\"Date\", axis=1)\n",
    "    data1 = data1.drop(\"FrameCounter\", axis=1)\n",
    "    data1 = data1.drop(\"State\", axis=1)\n",
    "      \n",
    "    data_time = data.filter([\"Time\", \"Date\"], axis=1)\n",
    "    avgFrame = []\n",
    "    \n",
    "    for i in range(len(begins)-1):\n",
    "        row = []\n",
    "        time = str(data_time[\"Time\"].iloc[begins[i]])\n",
    "        date = str(data_time[\"Date\"].iloc[begins[i]])\n",
    "        features = (data1.iloc[begins[i]: begins[i+1]]).mean().to_frame().transpose().values[0]\n",
    "        label = labels[\"Label\"].loc[labels['TimeStamp'] == str(data_time[\"Time\"].iloc[begins[i]])].values[0]\n",
    "        startTime = labels[\"TimeStamp\"].loc[labels['TimeStamp'] == str(data_time[\"Time\"].iloc[begins[i]])].values[0]\n",
    "        endTime = labels[\"TimeStamp\"].loc[labels['TimeStamp'] == str(data_time[\"Time\"].iloc[begins[i+1]])].values[0]\n",
    "        row.append(date)\n",
    "    #     row.append(time)\n",
    "        row.append(startTime)\n",
    "        row.append(endTime)\n",
    "        row.extend(features)\n",
    "        row.append(label)\n",
    "        avgFrame.append(row)\n",
    "    #     print(date, time, features, label)\n",
    "    return pd.DataFrame(avgFrame, columns=[\"Date\", \"StartTime\", \"EndTime\", \"RPM\", \"ObjectDistance\", \"SignalQuality\", \"MovementSlow\", \"MovementFast\", \"Label\"])"
   ]
  },
  {
   "cell_type": "code",
   "execution_count": 36,
   "metadata": {},
   "outputs": [],
   "source": [
    "data_format(data1)\n",
    "labels = label_Format(labels1)\n",
    "# label_cat = labels[\"Label\"]\n",
    "# labels[\"Label\"] = encoder.fit_transform(label_cat)\n",
    "begins = get_30s(data1)\n",
    "df = processDF(begins, data1, labels)"
   ]
  },
  {
   "cell_type": "code",
   "execution_count": 37,
   "metadata": {},
   "outputs": [],
   "source": [
    "formatData = os.listdir('formatedData')\n",
    "formatData.remove('1')\n",
    "formatData.remove('4')"
   ]
  },
  {
   "cell_type": "code",
   "execution_count": 38,
   "metadata": {},
   "outputs": [
    {
     "name": "stdout",
     "output_type": "stream",
     "text": [
      "Folder 1 has been added!...... Count = 1\n",
      "Folder 17 has been added!...... Count = 2\n",
      "Folder 32 has been added!...... Count = 3\n",
      "Folder 21 has been added!...... Count = 4\n",
      "Folder 39 has been added!...... Count = 5\n",
      "Folder 13 has been added!...... Count = 6\n",
      "Folder 20 has been added!...... Count = 7\n",
      "Folder 22 has been added!...... Count = 8\n",
      "Folder 41 has been added!...... Count = 9\n",
      "Folder 19 has been added!...... Count = 10\n",
      "Folder 34 has been added!...... Count = 11\n",
      "Folder 10 has been added!...... Count = 12\n",
      "Folder 8 has been added!...... Count = 13\n",
      "Folder 40 has been added!...... Count = 14\n",
      "Folder 29 has been added!...... Count = 15\n",
      "Folder 23 has been added!...... Count = 16\n",
      "Folder 3 has been added!...... Count = 17\n",
      "Folder 35 has been added!...... Count = 18\n",
      "Folder 37 has been added!...... Count = 19\n",
      "Folder 9 has been added!...... Count = 20\n",
      "Folder 27 has been added!...... Count = 21\n",
      "Folder 33 has been added!...... Count = 22\n",
      "Folder 43 has been added!...... Count = 23\n",
      "Folder 30 has been added!...... Count = 24\n",
      "Folder 2 has been added!...... Count = 25\n",
      "Folder 11 has been added!...... Count = 26\n",
      "Folder 26 has been added!...... Count = 27\n",
      "Folder 5 has been added!...... Count = 28\n",
      "Folder 6 has been added!...... Count = 29\n",
      "Folder 24 has been added!...... Count = 30\n",
      "Folder 14 has been added!...... Count = 31\n",
      "Folder 7 has been added!...... Count = 32\n",
      "Folder 25 has been added!...... Count = 33\n",
      "Folder 15 has been added!...... Count = 34\n",
      "Folder 42 has been added!...... Count = 35\n",
      "Folder 36 has been added!...... Count = 36\n",
      "Folder 28 has been added!...... Count = 37\n",
      "Folder 12 has been added!...... Count = 38\n",
      "Folder 38 has been added!...... Count = 39\n",
      "Folder 16 has been added!...... Count = 40\n",
      "Folder 31 has been added!...... Count = 41\n",
      "Total 37252 records has been added\n"
     ]
    }
   ],
   "source": [
    "print(\"Folder {:d} has been added!...... Count = {:d}\".format(1, 1))\n",
    "count = 1\n",
    "for i in formatData[1:]:\n",
    "    count+=1\n",
    "#     print(os.listdir('formatedData/'+i))\n",
    "    data = pd.read_csv('formatedData/' + i + '/data.csv',sep=';')\n",
    "    labels = pd.read_csv(\"formatedData/\" + i + \"/labels.txt\",  skiprows=5,sep=';')\n",
    "    \n",
    "    data_format(data)\n",
    "    labels = label_Format(labels)\n",
    "#     label_cat = labels[\"Label\"]\n",
    "#     labels[\"Label\"] = encoder.fit_transform(label_cat)\n",
    "    begins = get_30s(data)\n",
    "    df_ = processDF(begins, data, labels)\n",
    "    df = df.append(df_, ignore_index=True)\n",
    "    \n",
    "    print(\"Folder {:s} has been added!...... Count = {:d}\".format(i, count))\n",
    "    \n",
    "\n",
    "#     print(labels.columns[0], count)\n",
    "# print(\"Label Classes :\", encoder.classes_ )\n",
    "print(\"Total {:d} records has been added\".format(len(df)))"
   ]
  },
  {
   "cell_type": "code",
   "execution_count": 39,
   "metadata": {},
   "outputs": [
    {
     "data": {
      "text/html": [
       "<div>\n",
       "<style scoped>\n",
       "    .dataframe tbody tr th:only-of-type {\n",
       "        vertical-align: middle;\n",
       "    }\n",
       "\n",
       "    .dataframe tbody tr th {\n",
       "        vertical-align: top;\n",
       "    }\n",
       "\n",
       "    .dataframe thead th {\n",
       "        text-align: right;\n",
       "    }\n",
       "</style>\n",
       "<table border=\"1\" class=\"dataframe\">\n",
       "  <thead>\n",
       "    <tr style=\"text-align: right;\">\n",
       "      <th></th>\n",
       "      <th>Date</th>\n",
       "      <th>StartTime</th>\n",
       "      <th>EndTime</th>\n",
       "      <th>RPM</th>\n",
       "      <th>ObjectDistance</th>\n",
       "      <th>SignalQuality</th>\n",
       "      <th>MovementSlow</th>\n",
       "      <th>MovementFast</th>\n",
       "      <th>Label</th>\n",
       "    </tr>\n",
       "  </thead>\n",
       "  <tbody>\n",
       "    <tr>\n",
       "      <th>0</th>\n",
       "      <td>2017-11-22</td>\n",
       "      <td>23:45:00</td>\n",
       "      <td>23:45:30</td>\n",
       "      <td>0.00000</td>\n",
       "      <td>1.005013</td>\n",
       "      <td>4.233333</td>\n",
       "      <td>17.183042</td>\n",
       "      <td>1.032979</td>\n",
       "      <td>Wake</td>\n",
       "    </tr>\n",
       "    <tr>\n",
       "      <th>1</th>\n",
       "      <td>2017-11-22</td>\n",
       "      <td>23:45:30</td>\n",
       "      <td>23:46:00</td>\n",
       "      <td>0.00000</td>\n",
       "      <td>0.718234</td>\n",
       "      <td>5.433333</td>\n",
       "      <td>39.918807</td>\n",
       "      <td>38.216497</td>\n",
       "      <td>Wake</td>\n",
       "    </tr>\n",
       "    <tr>\n",
       "      <th>2</th>\n",
       "      <td>2017-11-22</td>\n",
       "      <td>23:46:00</td>\n",
       "      <td>23:46:30</td>\n",
       "      <td>8.11255</td>\n",
       "      <td>0.552008</td>\n",
       "      <td>8.400000</td>\n",
       "      <td>66.798640</td>\n",
       "      <td>29.113056</td>\n",
       "      <td>Wake</td>\n",
       "    </tr>\n",
       "    <tr>\n",
       "      <th>3</th>\n",
       "      <td>2017-11-22</td>\n",
       "      <td>23:46:30</td>\n",
       "      <td>23:47:00</td>\n",
       "      <td>0.00000</td>\n",
       "      <td>0.547259</td>\n",
       "      <td>4.900000</td>\n",
       "      <td>39.094203</td>\n",
       "      <td>23.586217</td>\n",
       "      <td>Wake</td>\n",
       "    </tr>\n",
       "    <tr>\n",
       "      <th>4</th>\n",
       "      <td>2017-11-22</td>\n",
       "      <td>23:47:00</td>\n",
       "      <td>23:47:30</td>\n",
       "      <td>0.00000</td>\n",
       "      <td>0.410558</td>\n",
       "      <td>9.366667</td>\n",
       "      <td>71.531260</td>\n",
       "      <td>35.720941</td>\n",
       "      <td>Wake</td>\n",
       "    </tr>\n",
       "  </tbody>\n",
       "</table>\n",
       "</div>"
      ],
      "text/plain": [
       "         Date StartTime   EndTime      RPM  ObjectDistance  SignalQuality  \\\n",
       "0  2017-11-22  23:45:00  23:45:30  0.00000        1.005013       4.233333   \n",
       "1  2017-11-22  23:45:30  23:46:00  0.00000        0.718234       5.433333   \n",
       "2  2017-11-22  23:46:00  23:46:30  8.11255        0.552008       8.400000   \n",
       "3  2017-11-22  23:46:30  23:47:00  0.00000        0.547259       4.900000   \n",
       "4  2017-11-22  23:47:00  23:47:30  0.00000        0.410558       9.366667   \n",
       "\n",
       "   MovementSlow  MovementFast  Label  \n",
       "0     17.183042      1.032979   Wake  \n",
       "1     39.918807     38.216497   Wake  \n",
       "2     66.798640     29.113056   Wake  \n",
       "3     39.094203     23.586217   Wake  \n",
       "4     71.531260     35.720941   Wake  "
      ]
     },
     "execution_count": 39,
     "metadata": {},
     "output_type": "execute_result"
    }
   ],
   "source": [
    "df.head()"
   ]
  },
  {
   "cell_type": "code",
   "execution_count": 40,
   "metadata": {},
   "outputs": [
    {
     "data": {
      "text/html": [
       "<div>\n",
       "<style scoped>\n",
       "    .dataframe tbody tr th:only-of-type {\n",
       "        vertical-align: middle;\n",
       "    }\n",
       "\n",
       "    .dataframe tbody tr th {\n",
       "        vertical-align: top;\n",
       "    }\n",
       "\n",
       "    .dataframe thead th {\n",
       "        text-align: right;\n",
       "    }\n",
       "</style>\n",
       "<table border=\"1\" class=\"dataframe\">\n",
       "  <thead>\n",
       "    <tr style=\"text-align: right;\">\n",
       "      <th></th>\n",
       "      <th>RPM</th>\n",
       "      <th>ObjectDistance</th>\n",
       "      <th>SignalQuality</th>\n",
       "      <th>MovementSlow</th>\n",
       "      <th>MovementFast</th>\n",
       "    </tr>\n",
       "  </thead>\n",
       "  <tbody>\n",
       "    <tr>\n",
       "      <th>count</th>\n",
       "      <td>37252.000000</td>\n",
       "      <td>37252.000000</td>\n",
       "      <td>37252.000000</td>\n",
       "      <td>37252.000000</td>\n",
       "      <td>37252.000000</td>\n",
       "    </tr>\n",
       "    <tr>\n",
       "      <th>mean</th>\n",
       "      <td>12.599632</td>\n",
       "      <td>0.808516</td>\n",
       "      <td>8.109587</td>\n",
       "      <td>11.503253</td>\n",
       "      <td>2.132584</td>\n",
       "    </tr>\n",
       "    <tr>\n",
       "      <th>std</th>\n",
       "      <td>4.564791</td>\n",
       "      <td>0.315169</td>\n",
       "      <td>2.409716</td>\n",
       "      <td>14.000889</td>\n",
       "      <td>7.153354</td>\n",
       "    </tr>\n",
       "    <tr>\n",
       "      <th>min</th>\n",
       "      <td>0.000000</td>\n",
       "      <td>0.000000</td>\n",
       "      <td>0.000000</td>\n",
       "      <td>0.000000</td>\n",
       "      <td>0.000000</td>\n",
       "    </tr>\n",
       "    <tr>\n",
       "      <th>25%</th>\n",
       "      <td>10.994466</td>\n",
       "      <td>0.611686</td>\n",
       "      <td>6.900000</td>\n",
       "      <td>4.530837</td>\n",
       "      <td>0.000000</td>\n",
       "    </tr>\n",
       "    <tr>\n",
       "      <th>50%</th>\n",
       "      <td>13.705408</td>\n",
       "      <td>0.750553</td>\n",
       "      <td>9.133333</td>\n",
       "      <td>6.940323</td>\n",
       "      <td>0.009613</td>\n",
       "    </tr>\n",
       "    <tr>\n",
       "      <th>75%</th>\n",
       "      <td>15.703198</td>\n",
       "      <td>0.915402</td>\n",
       "      <td>10.000000</td>\n",
       "      <td>11.242233</td>\n",
       "      <td>0.206300</td>\n",
       "    </tr>\n",
       "    <tr>\n",
       "      <th>max</th>\n",
       "      <td>29.790257</td>\n",
       "      <td>4.860523</td>\n",
       "      <td>10.000000</td>\n",
       "      <td>96.306997</td>\n",
       "      <td>83.985140</td>\n",
       "    </tr>\n",
       "  </tbody>\n",
       "</table>\n",
       "</div>"
      ],
      "text/plain": [
       "                RPM  ObjectDistance  SignalQuality  MovementSlow  MovementFast\n",
       "count  37252.000000    37252.000000   37252.000000  37252.000000  37252.000000\n",
       "mean      12.599632        0.808516       8.109587     11.503253      2.132584\n",
       "std        4.564791        0.315169       2.409716     14.000889      7.153354\n",
       "min        0.000000        0.000000       0.000000      0.000000      0.000000\n",
       "25%       10.994466        0.611686       6.900000      4.530837      0.000000\n",
       "50%       13.705408        0.750553       9.133333      6.940323      0.009613\n",
       "75%       15.703198        0.915402      10.000000     11.242233      0.206300\n",
       "max       29.790257        4.860523      10.000000     96.306997     83.985140"
      ]
     },
     "execution_count": 40,
     "metadata": {},
     "output_type": "execute_result"
    }
   ],
   "source": [
    "df.describe()"
   ]
  },
  {
   "cell_type": "code",
   "execution_count": 64,
   "metadata": {},
   "outputs": [],
   "source": [
    "df.to_csv(r'out/prepared.csv')"
   ]
  },
  {
   "cell_type": "code",
   "execution_count": 44,
   "metadata": {},
   "outputs": [],
   "source": [
    "df_ = df.copy()"
   ]
  },
  {
   "cell_type": "code",
   "execution_count": 48,
   "metadata": {},
   "outputs": [
    {
     "data": {
      "text/plain": [
       " N2          15454\n",
       " REM          8008\n",
       " N3           7800\n",
       " Wake         3888\n",
       " N1           2061\n",
       " Artefact       39\n",
       " A               2\n",
       "Name: Label, dtype: int64"
      ]
     },
     "execution_count": 48,
     "metadata": {},
     "output_type": "execute_result"
    }
   ],
   "source": [
    "df[\"Label\"].value_counts()"
   ]
  },
  {
   "cell_type": "code",
   "execution_count": null,
   "metadata": {},
   "outputs": [],
   "source": []
  },
  {
   "cell_type": "code",
   "execution_count": null,
   "metadata": {},
   "outputs": [],
   "source": [
    "df_['Label'] = df_['Label'].replace({'A': ' Artefact'})"
   ]
  },
  {
   "cell_type": "code",
   "execution_count": null,
   "metadata": {},
   "outputs": [],
   "source": [
    "df"
   ]
  },
  {
   "cell_type": "code",
   "execution_count": 25,
   "metadata": {},
   "outputs": [],
   "source": [
    "df_cat = df[\"Label\"]\n",
    "df[\"Label\"] = encoder.fit_transform(df_cat)"
   ]
  },
  {
   "cell_type": "code",
   "execution_count": 27,
   "metadata": {},
   "outputs": [
    {
     "data": {
      "text/plain": [
       "array([' A', ' Artefact', ' N1', ' N2', ' N3', ' REM', ' Wake'],\n",
       "      dtype=object)"
      ]
     },
     "execution_count": 27,
     "metadata": {},
     "output_type": "execute_result"
    }
   ],
   "source": [
    "encoder.classes_"
   ]
  },
  {
   "cell_type": "code",
   "execution_count": null,
   "metadata": {},
   "outputs": [],
   "source": []
  }
 ],
 "metadata": {
  "kernelspec": {
   "display_name": "Python 3",
   "language": "python",
   "name": "python3"
  },
  "language_info": {
   "codemirror_mode": {
    "name": "ipython",
    "version": 3
   },
   "file_extension": ".py",
   "mimetype": "text/x-python",
   "name": "python",
   "nbconvert_exporter": "python",
   "pygments_lexer": "ipython3",
   "version": "3.7.3"
  }
 },
 "nbformat": 4,
 "nbformat_minor": 2
}
